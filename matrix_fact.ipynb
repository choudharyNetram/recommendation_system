{
 "cells": [
  {
   "cell_type": "code",
   "execution_count": 1,
   "metadata": {},
   "outputs": [
    {
     "name": "stdout",
     "output_type": "stream",
     "text": [
      "WARNING:tensorflow:From c:\\Users\\choud\\AppData\\Local\\Programs\\Python\\Python310\\lib\\site-packages\\keras\\src\\losses.py:2976: The name tf.losses.sparse_softmax_cross_entropy is deprecated. Please use tf.compat.v1.losses.sparse_softmax_cross_entropy instead.\n",
      "\n"
     ]
    }
   ],
   "source": [
    "import numpy as np\n",
    "import tensorflow as tf\n",
    "from tensorflow import keras\n",
    "from numpy import loadtxt\n",
    "import pandas as pd\n"
   ]
  },
  {
   "cell_type": "code",
   "execution_count": 2,
   "metadata": {},
   "outputs": [],
   "source": [
    "df = pd.read_csv(\"ml-latest-small/ratings.csv\")\n",
    "df_small = df.head(900)\n"
   ]
  },
  {
   "cell_type": "code",
   "execution_count": 9,
   "metadata": {},
   "outputs": [],
   "source": [
    "\n",
    "matrix = df.pivot(index='userId', columns='movieId', values='rating')\n",
    "\n",
    "matrix_array = matrix.to_numpy()\n",
    "\n",
    "matrix_array[matrix_array == 0] = np.nan\n",
    "\n"
   ]
  },
  {
   "cell_type": "code",
   "execution_count": 10,
   "metadata": {},
   "outputs": [],
   "source": [
    "\n",
    "def factorize(A, k):\n",
    "    \"\"\"Factorize the matrix A into W and H\"\"\"\n",
    "    # Randomly initialize W and H\n",
    "    W = tf.Variable(tf.random.normal((A.shape[0], k), dtype=tf.float32))\n",
    "    H = tf.Variable(tf.random.normal((k, A.shape[1]), dtype=tf.float32))\n",
    "    # Define the optimizer\n",
    "    optimizer = tf.keras.optimizers.Adam(learning_rate=0.01)\n",
    "    \n",
    "    # Train the model\n",
    "    for i in range(1000):\n",
    "        with tf.GradientTape() as tape:\n",
    "            # Compute the loss\n",
    "            diff_matrix = tf.matmul(W, H) - A\n",
    "            mask = ~tf.math.is_nan(A)\n",
    "            masked_diff = tf.boolean_mask(diff_matrix, mask)\n",
    "            loss = tf.norm(masked_diff)\n",
    "        \n",
    "        # Compute gradients\n",
    "        gradients = tape.gradient(loss, [W, H])\n",
    "        \n",
    "        # Update the parameters\n",
    "        optimizer.apply_gradients(zip(gradients, [W, H]))\n",
    "        \n",
    "    return W, H, loss\n"
   ]
  },
  {
   "cell_type": "code",
   "execution_count": 11,
   "metadata": {},
   "outputs": [],
   "source": [
    "\n",
    "W, H, loss = factorize(matrix_array, 5)\n"
   ]
  },
  {
   "cell_type": "code",
   "execution_count": 14,
   "metadata": {},
   "outputs": [],
   "source": [
    "import numpy as np\n",
    "from sklearn.metrics import mean_squared_error\n",
    "\n",
    "def calculate_rmse(predicted_ratings, observed_ratings):\n",
    "    # Remove NaN values from the observed ratings and the corresponding predicted ratings\n",
    "    observed_ratings_non_nan = observed_ratings[~np.isnan(observed_ratings)]\n",
    "    predicted_ratings_non_nan = predicted_ratings[~np.isnan(observed_ratings)]\n",
    "    \n",
    "    # Calculate the RMSE\n",
    "    rmse = np.sqrt(mean_squared_error(observed_ratings_non_nan, predicted_ratings_non_nan))\n",
    "    return rmse\n"
   ]
  },
  {
   "cell_type": "code",
   "execution_count": 15,
   "metadata": {},
   "outputs": [],
   "source": [
    "def predict_movie_ratings(user, df, W, H):\n",
    "    idx = df.index.get_loc(user)\n",
    "    user_ratings = df.iloc[idx]\n",
    "    user_ratings = user_ratings.dropna()\n",
    "    user_ratings = user_ratings.to_frame().T\n",
    "    user_ratings = user_ratings.reindex(columns=df.columns, fill_value=float('nan'))\n",
    "    user_ratings = user_ratings.to_numpy()\n",
    "\n",
    "    predicted_ratings = tf.matmul(W, H).numpy()\n",
    "    predicted_ratings_user = predicted_ratings[idx].flatten()\n",
    "    \n",
    "    # Calculate RMSE\n",
    "    rmse = calculate_rmse(predicted_ratings_user, user_ratings.flatten())\n",
    "    \n",
    "    return pd.DataFrame({\"Observed\": user_ratings.flatten(), \"Predicted\": predicted_ratings_user}), rmse\n"
   ]
  },
  {
   "cell_type": "code",
   "execution_count": 16,
   "metadata": {},
   "outputs": [
    {
     "data": {
      "text/plain": [
       "(      Observed  Predicted\n",
       " 0          4.0   4.621564\n",
       " 1          NaN   4.229770\n",
       " 2          4.0   4.254331\n",
       " 3          NaN   2.156176\n",
       " 4          NaN   3.808494\n",
       " ...        ...        ...\n",
       " 9719       NaN   2.382705\n",
       " 9720       NaN   0.576959\n",
       " 9721       NaN   2.571400\n",
       " 9722       NaN   2.385490\n",
       " 9723       NaN   4.527680\n",
       " \n",
       " [9724 rows x 2 columns],\n",
       " 0.6756355680839877)"
      ]
     },
     "execution_count": 16,
     "metadata": {},
     "output_type": "execute_result"
    }
   ],
   "source": [
    "predict_movie_ratings(1, matrix, W, H)\n"
   ]
  },
  {
   "cell_type": "code",
   "execution_count": null,
   "metadata": {},
   "outputs": [],
   "source": []
  }
 ],
 "metadata": {
  "kernelspec": {
   "display_name": "Python 3",
   "language": "python",
   "name": "python3"
  },
  "language_info": {
   "codemirror_mode": {
    "name": "ipython",
    "version": 3
   },
   "file_extension": ".py",
   "mimetype": "text/x-python",
   "name": "python",
   "nbconvert_exporter": "python",
   "pygments_lexer": "ipython3",
   "version": "3.10.0"
  }
 },
 "nbformat": 4,
 "nbformat_minor": 2
}
