{
 "cells": [
  {
   "cell_type": "code",
   "execution_count": 13,
   "metadata": {},
   "outputs": [],
   "source": [
    "import numpy as np\n",
    "import tensorflow as tf\n",
    "from tensorflow import keras\n",
    "from numpy import loadtxt\n",
    "import pandas as pd\n"
   ]
  },
  {
   "cell_type": "code",
   "execution_count": 14,
   "metadata": {},
   "outputs": [],
   "source": [
    "df = pd.read_csv(\"ml-latest-small/ratings.csv\")\n",
    "df_small = df.head(900)\n"
   ]
  },
  {
   "cell_type": "code",
   "execution_count": 15,
   "metadata": {},
   "outputs": [],
   "source": [
    "\n",
    "matrix = df.pivot(index='userId', columns='movieId', values='rating')\n",
    "\n",
    "matrix_array = matrix.to_numpy()\n",
    "\n",
    "matrix_array[matrix_array == 0] = np.nan\n",
    "\n"
   ]
  },
  {
   "cell_type": "code",
   "execution_count": 16,
   "metadata": {},
   "outputs": [
    {
     "name": "stdout",
     "output_type": "stream",
     "text": [
      "Shape of U: (610, 610)\n",
      "Shape of Sigma: (610,)\n",
      "Shape of VT: (610, 9724)\n",
      "Singular values: [534.41989777 231.23661142 191.1508762  170.42250831 154.552948\n",
      " 147.33575651 135.65556768 122.66302989 121.44217651 113.11144323\n",
      " 109.60313933 107.93266172 105.97376877 102.05675293  99.87323589\n",
      "  99.28999246  97.11713355  93.40879296  92.32408574  90.97607986\n",
      "  90.42515264  88.83466993  87.29627026  86.05702164  85.15393734\n",
      "  83.04476272  82.40743887  81.73690785  80.86997674  79.52408732\n",
      "  79.16948319  78.84651534  78.00723454  76.71225804  75.6272454\n",
      "  75.40667214  74.96494138  74.29201322  74.05266585  73.45188037\n",
      "  73.2246949   72.46953282  71.70985332  70.20660519  70.02143448\n",
      "  69.93495369  69.50676339  69.07855191  68.43455046  67.8676482\n",
      "  67.49922664  67.48404012  67.06467382  66.58800288  66.0811711\n",
      "  65.46149276  64.93460662  64.84974658  64.3412403   63.92922187\n",
      "  63.80270853  63.6549702   63.21158802  63.02672434  62.8347854\n",
      "  62.30489869  61.71605686  61.54464024  61.24327624  60.80532105\n",
      "  60.53737166  60.20111326  59.93380272  59.77707611  59.34636373\n",
      "  59.21261216  59.04868633  58.62456412  58.30598549  58.22154408\n",
      "  58.03042995  57.77483645  57.52509679  57.33352511  57.08945828\n",
      "  56.94043316  56.78366967  56.18009159  56.06027114  55.54566417\n",
      "  55.39614097  55.17004359  54.96855006  54.65712304  54.52427024\n",
      "  54.31689273  54.14301235  53.82131296  53.6359703   53.24416781\n",
      "  53.17502724  52.98078346  52.75282582  52.39939931  52.2454473\n",
      "  52.11916542  52.08984158  51.82995199  51.59509502  51.23869241\n",
      "  51.04599537  50.89854712  50.6365081   50.35002878  50.30142335\n",
      "  49.90352653  49.70981954  49.62127523  49.1847329   49.15834363\n",
      "  48.89495298  48.72755502  48.56971242  48.35318433  48.246659\n",
      "  48.02150569  47.89616764  47.6614329   47.62266217  47.2555493\n",
      "  46.99949082  46.71828425  46.59137229  46.52964259  46.38110824\n",
      "  46.17066131  45.84137555  45.75688975  45.63615388  45.32988149\n",
      "  45.15450807  45.00209535  44.70373704  44.51619713  44.3624539\n",
      "  44.20811807  44.14959814  44.09231277  43.92740519  43.9197844\n",
      "  43.59242366  43.4970149   43.38437158  43.34588477  42.93385012\n",
      "  42.91221336  42.83049691  42.66254032  42.4229505   42.21346803\n",
      "  42.03226332  41.88278492  41.74564537  41.66305665  41.31556023\n",
      "  41.04717933  40.87389362  40.79118293  40.65350071  40.49203738\n",
      "  40.3379355   40.28780606  40.10019983  39.87487182  39.75938053\n",
      "  39.69995232  39.56242814  39.47403541  39.3352616   39.26598927\n",
      "  39.09024835  38.86029309  38.64566384  38.49204168  38.32076748\n",
      "  38.25147196  38.19644533  37.91258434  37.78685955  37.56557221\n",
      "  37.43651956  37.25777015  37.09768654  37.02375611  37.01137017\n",
      "  36.87851619  36.63489492  36.58606281  36.50971883  36.204574\n",
      "  36.13160849  36.05011874  35.92873899  35.83898224  35.63952702\n",
      "  35.43702114  35.31083368  35.26471179  35.18525259  34.95007967\n",
      "  34.85592508  34.7646004   34.55095502  34.50512634  34.38585468\n",
      "  34.27624709  34.27442903  34.03635676  34.02274657  33.89291771\n",
      "  33.79130165  33.66870015  33.49336492  33.39732752  33.28785292\n",
      "  33.22551418  33.16008868  32.97483202  32.86353408  32.82228531\n",
      "  32.59305168  32.42071833  32.36450009  32.20369484  32.06019941\n",
      "  31.94469944  31.85814796  31.85179332  31.78494317  31.51600021\n",
      "  31.38655773  31.22756104  31.15602189  31.02911618  30.87480791\n",
      "  30.83334907  30.73368944  30.59102907  30.53987055  30.31936737\n",
      "  30.22691317  30.15330799  30.09451557  30.01222449  29.99424287\n",
      "  29.9040703   29.78763042  29.6302591   29.45215294  29.3889805\n",
      "  29.34681709  29.23239473  29.13238796  29.04009375  28.88265498\n",
      "  28.80976603  28.70352835  28.53396733  28.47633402  28.45013641\n",
      "  28.35568686  28.26626728  28.10879204  28.03175431  27.9421263\n",
      "  27.8177557   27.77506257  27.55694613  27.50071124  27.45588926\n",
      "  27.42350855  27.39743972  27.21242249  27.18344146  27.09852585\n",
      "  26.92248468  26.81939528  26.75992828  26.73674747  26.65583088\n",
      "  26.52935849  26.49720479  26.36944783  26.31692285  26.19144539\n",
      "  26.13944282  26.06525123  26.02534702  25.86714632  25.85175213\n",
      "  25.75815962  25.74931598  25.51010538  25.49426543  25.35941296\n",
      "  25.34609134  25.25497849  25.14792724  25.06535522  25.00543103\n",
      "  24.87880012  24.83205306  24.71991461  24.65165955  24.64432146\n",
      "  24.5522766   24.43199576  24.34657259  24.18063447  24.13648926\n",
      "  24.06211679  23.99353646  23.86627313  23.82987195  23.73149885\n",
      "  23.71959893  23.60840583  23.53344505  23.47598701  23.33726998\n",
      "  23.29173709  23.19854619  23.17691193  23.06115217  23.02299346\n",
      "  22.94486393  22.9194389   22.84017535  22.75413591  22.65908146\n",
      "  22.6251265   22.52036161  22.49934509  22.40180168  22.3028437\n",
      "  22.24189624  22.19280766  22.14353641  22.09285662  21.96048629\n",
      "  21.8617488   21.84995215  21.77854087  21.76643943  21.62318036\n",
      "  21.54871164  21.50354063  21.47381718  21.41778789  21.32248787\n",
      "  21.28971259  21.21029103  21.11295386  21.072068    21.01699549\n",
      "  20.94653705  20.89850459  20.83233967  20.78451435  20.66777404\n",
      "  20.58409847  20.5373003   20.48614865  20.42476216  20.37512511\n",
      "  20.22294657  20.20358055  20.09671541  19.98989888  19.97634377\n",
      "  19.91010662  19.86987359  19.84353076  19.70341771  19.66101065\n",
      "  19.60981569  19.57103367  19.53540027  19.48410707  19.44350369\n",
      "  19.4076651   19.27067586  19.24668657  19.17701135  19.14923736\n",
      "  19.09219772  18.95498014  18.94070677  18.86220697  18.76764345\n",
      "  18.73598996  18.70617533  18.62408717  18.59699106  18.56750534\n",
      "  18.48050227  18.4228345   18.31840534  18.25141904  18.19345032\n",
      "  18.16655118  18.10238113  18.05314423  17.98956396  17.88100124\n",
      "  17.84617844  17.82465151  17.77174635  17.6949009   17.66623175\n",
      "  17.59059398  17.57921211  17.52631228  17.44610919  17.35646626\n",
      "  17.31336415  17.23854499  17.19888852  17.14540032  17.06647992\n",
      "  17.01334542  16.9393425   16.90571076  16.87877155  16.83153131\n",
      "  16.78058481  16.6984954   16.66778555  16.55062023  16.5401056\n",
      "  16.45832222  16.42667797  16.40688042  16.34326254  16.2360525\n",
      "  16.20125241  16.14286825  16.03840436  16.02550318  15.99119212\n",
      "  15.93668028  15.86147004  15.83688926  15.7584055   15.69676471\n",
      "  15.66593017  15.6025749   15.55472465  15.49204781  15.43782932\n",
      "  15.39978615  15.32136695  15.27946998  15.2266361   15.19975865\n",
      "  15.13620846  15.07618911  14.99842257  14.93044536  14.8876993\n",
      "  14.82162154  14.78368604  14.70561791  14.69637729  14.64410317\n",
      "  14.58053826  14.52131584  14.46168549  14.40493539  14.36146576\n",
      "  14.31135037  14.27707698  14.2161576   14.20345757  14.09560567\n",
      "  14.04215485  13.9974713   13.94690201  13.93740709  13.83193363\n",
      "  13.75141452  13.72944155  13.69254602  13.58048901  13.55839947\n",
      "  13.47780075  13.41604773  13.37684976  13.32150298  13.25709901\n",
      "  13.23790527  13.16790714  13.10329079  12.99949864  12.95858198\n",
      "  12.86380272  12.80219401  12.78093816  12.70550077  12.68122152\n",
      "  12.62001342  12.60231116  12.46306014  12.4409096   12.37864011\n",
      "  12.34417278  12.30434513  12.2415098   12.18194122  12.17655251\n",
      "  12.08445294  12.06198188  11.94164167  11.86549664  11.86168277\n",
      "  11.77847547  11.7189408   11.67171903  11.63052868  11.56737698\n",
      "  11.49593036  11.42608236  11.40315567  11.33130997  11.21612478\n",
      "  11.15032436  11.11421258  11.06620688  10.98352833  10.965329\n",
      "  10.92004306  10.83574106  10.81307679  10.77721784  10.75079852\n",
      "  10.62440139  10.58481709  10.53961758  10.39980092  10.3341466\n",
      "  10.31101929  10.22810053  10.16127231  10.10519092  10.07600095\n",
      "   9.95841186   9.89417387   9.77176025   9.71565118   9.62071464\n",
      "   9.58500526   9.5240869    9.46135305   9.35188444   9.31416341\n",
      "   9.27559647   9.12992689   9.078564     8.97522501   8.91151593\n",
      "   8.87674527   8.79082914   8.74236889   8.67319139   8.54990065\n",
      "   8.49836888   8.32584945   8.24517115   8.14679687   8.08153438\n",
      "   7.9499208    7.84509435   7.82879015   7.73072824   7.69531378\n",
      "   7.39858067   7.35381054   7.25073792   7.12876549   7.03551106\n",
      "   6.8861766    6.70247468   6.57770359   6.53226887   6.36720713\n",
      "   6.20321521   6.08570289   6.05607072   5.91918873   5.72487171\n",
      "   5.34854741   5.13236147   4.94197587   4.76492537   4.56469537\n",
      "   4.49105122   4.3717472    3.87425211   3.113954     2.94720712]\n",
      "Reconstructed matrix: [[ 4.00000000e+00  1.37060502e-14  4.00000000e+00 ...  3.84024409e-16\n",
      "   3.84024409e-16 -9.67108338e-17]\n",
      " [-1.42108547e-14 -2.46330734e-15  2.10942375e-15 ...  1.00267017e-15\n",
      "   1.00267017e-15 -4.99600361e-16]\n",
      " [ 2.06102496e-14 -7.04644676e-15 -3.45209972e-15 ... -4.54497551e-16\n",
      "  -4.54497551e-16  5.23886490e-16]\n",
      " ...\n",
      " [ 2.50000000e+00  2.00000000e+00  2.00000000e+00 ... -5.85469173e-16\n",
      "  -5.85469173e-16  4.73579509e-16]\n",
      " [ 3.00000000e+00 -6.60582700e-15  4.66293670e-15 ...  1.11889664e-16\n",
      "   1.11889664e-16  1.17961196e-16]\n",
      " [ 5.00000000e+00  8.38738801e-16  6.77734778e-15 ...  6.67868538e-17\n",
      "   6.67868538e-17 -1.36620316e-15]]\n"
     ]
    }
   ],
   "source": [
    "\n",
    "# Replace NaN values with 0\n",
    "matrix_array_cleaned = np.nan_to_num(matrix_array, nan=0.0)\n",
    "\n",
    "# Compute the SVD\n",
    "U, Sigma, VT = np.linalg.svd(matrix_array_cleaned, full_matrices=False)\n",
    "\n",
    "# Print the shapes of U, Sigma, and VT\n",
    "print(\"Shape of U:\", U.shape)\n",
    "print(\"Shape of Sigma:\", Sigma.shape)\n",
    "print(\"Shape of VT:\", VT.shape)\n",
    "\n",
    "# Print the singular values\n",
    "print(\"Singular values:\", Sigma)\n",
    "\n",
    "# Optional: Reconstruct the original matrix using SVD components\n",
    "reconstructed_matrix = U @ np.diag(Sigma) @ VT\n",
    "print(\"Reconstructed matrix:\", reconstructed_matrix)"
   ]
  },
  {
   "cell_type": "code",
   "execution_count": 17,
   "metadata": {},
   "outputs": [
    {
     "name": "stdout",
     "output_type": "stream",
     "text": [
      "(610, 9724)\n"
     ]
    }
   ],
   "source": [
    "print(matrix_array_cleaned.shape)"
   ]
  },
  {
   "cell_type": "code",
   "execution_count": 18,
   "metadata": {},
   "outputs": [
    {
     "name": "stdout",
     "output_type": "stream",
     "text": [
      "Top recommended items for user 1: [462, 399, 521, 898, 816]\n"
     ]
    }
   ],
   "source": [
    "# Assume U, Sigma, and VT are obtained from SVD\n",
    "# Let's generate predictions for all user-item pairs\n",
    "\n",
    "def generate_predictions(U, Sigma, VT, num_recommendations=5):\n",
    "    predicted_ratings = np.dot(U, np.dot(np.diag(Sigma), VT))\n",
    "    return predicted_ratings\n",
    "\n",
    "predicted_ratings = generate_predictions(U, Sigma, VT)\n",
    "\n",
    "# Now, let's make recommendations for a specific user (user_id)\n",
    "def recommend_items(user_id, predicted_ratings, num_recommendations=5):\n",
    "    user_ratings = predicted_ratings[user_id - 1]  # User ID is 1-indexed\n",
    "    sorted_indices = np.argsort(user_ratings)[::-1]  # Sort in descending order\n",
    "    recommended_items = []\n",
    "    for i in sorted_indices:\n",
    "        if len(recommended_items) == num_recommendations:\n",
    "            break\n",
    "        if np.isnan(user_ratings[i]):  # Skip items with NaN ratings\n",
    "            continue\n",
    "        recommended_items.append(i + 1)  # Item ID is 1-indexed\n",
    "    return recommended_items\n",
    "\n",
    "user_id = 1  # Example user ID\n",
    "recommended_items = recommend_items(user_id, predicted_ratings)\n",
    "print(f\"Top recommended items for user {user_id}: {recommended_items}\")\n"
   ]
  },
  {
   "cell_type": "code",
   "execution_count": 19,
   "metadata": {},
   "outputs": [],
   "source": [
    "def get_predicted_and_actual_rating(user_id, item_id, predicted_ratings, original_ratings):\n",
    "    predicted_rating = predicted_ratings[user_id - 1, item_id - 1]  # User and item IDs are 1-indexed\n",
    "    actual_rating = original_ratings[user_id - 1, item_id - 1]  # User and item IDs are 1-indexed\n",
    "    return predicted_rating, actual_rating\n"
   ]
  },
  {
   "cell_type": "code",
   "execution_count": 20,
   "metadata": {},
   "outputs": [
    {
     "name": "stdout",
     "output_type": "stream",
     "text": [
      "Predicted rating for user 1 and item 1: 4.000000000000031\n",
      "Actual rating for user 1 and item 1: 4.0\n"
     ]
    }
   ],
   "source": [
    "user_id = 1  # Example user ID\n",
    "item_id = 1  # Example item ID\n",
    "predicted_rating, actual_rating = get_predicted_and_actual_rating(user_id, item_id, predicted_ratings, matrix_array_cleaned)\n",
    "print(f\"Predicted rating for user {user_id} and item {item_id}: {predicted_rating}\")\n",
    "print(f\"Actual rating for user {user_id} and item {item_id}: {actual_rating}\")\n",
    "\n"
   ]
  },
  {
   "cell_type": "code",
   "execution_count": 21,
   "metadata": {},
   "outputs": [
    {
     "name": "stdout",
     "output_type": "stream",
     "text": [
      "    User_ID  Item_ID  Predicted_Rating  Actual_Rating\n",
      "0         1        1      4.000000e+00            4.0\n",
      "1         1        2      1.370432e-14            0.0\n",
      "2         1        3      4.000000e+00            4.0\n",
      "3         1        4      1.469311e-15            0.0\n",
      "4         1        5      1.194184e-14            0.0\n",
      "..      ...      ...               ...            ...\n",
      "95        1       96     -1.824062e-15            0.0\n",
      "96        1       97      7.953707e-16            0.0\n",
      "97        1       98      4.000000e+00            4.0\n",
      "98        1       99      1.502271e-14            0.0\n",
      "99        1      100      6.290107e-15            0.0\n",
      "\n",
      "[100 rows x 4 columns]\n"
     ]
    }
   ],
   "source": [
    "\n",
    "def get_predicted_and_actual_rating(user_id, item_id, predicted_ratings, original_ratings):\n",
    "    predicted_rating = predicted_ratings[user_id - 1, item_id - 1]  # User and item IDs are 1-indexed\n",
    "    actual_rating = original_ratings[user_id - 1, item_id - 1]  # User and item IDs are 1-indexed\n",
    "    return predicted_rating, actual_rating\n",
    "\n",
    "# Create empty lists to store data\n",
    "user_ids = []\n",
    "item_ids = []\n",
    "predicted_ratings_list = []\n",
    "actual_ratings_list = []\n",
    "num_users = 7 \n",
    "num_movies = 725\n",
    "# Iterate over all user-item pairs\n",
    "for user_id in range(1, num_users + 1):  # Assuming user IDs are 1-indexed\n",
    "    for item_id in range(1, num_movies + 1):  # Assuming movie IDs are 1-indexed\n",
    "        predicted_rating, actual_rating = get_predicted_and_actual_rating(user_id, item_id, predicted_ratings, matrix_array_cleaned)\n",
    "        user_ids.append(user_id)\n",
    "        item_ids.append(item_id)\n",
    "        predicted_ratings_list.append(predicted_rating)\n",
    "        actual_ratings_list.append(actual_rating)\n",
    "\n",
    "# Create DataFrame\n",
    "ratings_df = pd.DataFrame({\n",
    "    'User_ID': user_ids,\n",
    "    'Item_ID': item_ids,\n",
    "    'Predicted_Rating': predicted_ratings_list,\n",
    "    'Actual_Rating': actual_ratings_list\n",
    "})\n",
    "\n",
    "# Print the DataFrame\n",
    "print(ratings_df.head(100))\n"
   ]
  },
  {
   "cell_type": "code",
   "execution_count": 22,
   "metadata": {},
   "outputs": [
    {
     "name": "stdout",
     "output_type": "stream",
     "text": [
      "RMSE: 5.187287966568021e-15\n"
     ]
    }
   ],
   "source": [
    "from sklearn.metrics import mean_squared_error\n",
    "\n",
    "# Remove rows with NaN actual ratings\n",
    "ratings_df_cleaned = ratings_df.dropna(subset=['Actual_Rating'])\n",
    "\n",
    "# Calculate RMSE\n",
    "rmse = np.sqrt(mean_squared_error(ratings_df_cleaned['Actual_Rating'], ratings_df_cleaned['Predicted_Rating']))\n",
    "\n",
    "print(\"RMSE:\", rmse)\n"
   ]
  },
  {
   "cell_type": "code",
   "execution_count": 23,
   "metadata": {},
   "outputs": [
    {
     "name": "stdout",
     "output_type": "stream",
     "text": [
      "    User_ID  Item_ID  Predicted_Rating  Actual_Rating\n",
      "30        1       31      4.749673e-15            0.0\n",
      "31        1       32      2.443878e-14            0.0\n",
      "32        1       33      3.242719e-14            0.0\n",
      "33        1       34      1.804112e-14            0.0\n",
      "34        1       35      2.997819e-16            0.0\n",
      "35        1       36      1.565414e-14            0.0\n",
      "36        1       37     -3.469447e-16            0.0\n",
      "37        1       38      2.404327e-15            0.0\n",
      "38        1       39      1.592476e-15            0.0\n",
      "39        1       40      3.115563e-15            0.0\n",
      "40        1       41      9.636389e-16            0.0\n",
      "41        1       42      1.536271e-14            0.0\n",
      "42        1       43      7.855126e-15            0.0\n",
      "43        1       44      5.000000e+00            5.0\n",
      "44        1       45      3.205769e-15            0.0\n",
      "45        1       46      1.691355e-17            0.0\n",
      "46        1       47      5.000000e+00            5.0\n",
      "47        1       48      1.022099e-14            0.0\n",
      "48        1       49      1.476250e-15            0.0\n",
      "49        1       50      1.499668e-15            0.0\n",
      "50        1       51      4.315125e-16            0.0\n",
      "51        1       52      4.288236e-15            0.0\n",
      "52        1       53      1.271292e-14            0.0\n",
      "53        1       54      6.935424e-15            0.0\n",
      "54        1       55      3.087808e-16            0.0\n",
      "55        1       56      1.332962e-14            0.0\n",
      "56        1       57     -8.131516e-16            0.0\n",
      "57        1       58     -2.393918e-16            0.0\n",
      "58        1       59      2.864028e-15            0.0\n",
      "59        1       60     -6.280783e-16            0.0\n"
     ]
    }
   ],
   "source": [
    "print(ratings_df[30:60])\n"
   ]
  },
  {
   "cell_type": "code",
   "execution_count": null,
   "metadata": {},
   "outputs": [],
   "source": []
  }
 ],
 "metadata": {
  "kernelspec": {
   "display_name": "Python 3",
   "language": "python",
   "name": "python3"
  },
  "language_info": {
   "codemirror_mode": {
    "name": "ipython",
    "version": 3
   },
   "file_extension": ".py",
   "mimetype": "text/x-python",
   "name": "python",
   "nbconvert_exporter": "python",
   "pygments_lexer": "ipython3",
   "version": "3.10.0"
  }
 },
 "nbformat": 4,
 "nbformat_minor": 2
}
